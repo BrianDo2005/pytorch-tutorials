{
  "metadata": {
    "language_info": {
      "codemirror_mode": {
        "version": 3,
        "name": "ipython"
      },
      "version": "3.5.2",
      "mimetype": "text/x-python",
      "pygments_lexer": "ipython3",
      "file_extension": ".py",
      "name": "python",
      "nbconvert_exporter": "python"
    },
    "kernelspec": {
      "language": "python",
      "name": "python3",
      "display_name": "Python 3"
    }
  },
  "nbformat_minor": 0,
  "nbformat": 4,
  "cells": [
    {
      "metadata": {
        "collapsed": false
      },
      "execution_count": null,
      "cell_type": "code",
      "source": [
        "%matplotlib inline"
      ],
      "outputs": []
    },
    {
      "metadata": {},
      "source": [
        "\nTransfer Learning tutorial\n==========================\n**Author**: Sasank Chilamkurthy\n\nIn this tutorial, you will learn how to train your network using\ntransfer learning. You can read more about the transfer learning at `cs231n\nnotes <http://cs231n.github.io/transfer-learning/>`__\n\nQuoting this notes,\n\n    In practice, very few people train an entire Convolutional Network\n    from scratch (with random initialization), because it is relatively\n    rare to have a dataset of sufficient size. Instead, it is common to\n    pretrain a ConvNet on a very large dataset (e.g. ImageNet, which\n    contains 1.2 million images with 1000 categories), and then use the\n    ConvNet either as an initialization or a fixed feature extractor for\n    the task of interest.\n\nThese two major transfer learning scenarios looks as follows:\n\n-  **Finetuning the convnet**: Instead of random initializaion, we\n   initialize the network with a pretrained network, like the one that is\n   trained on imagenet 1000 dataset. Rest of the training looks as\n   usual.\n-  **ConvNet as fixed feature extractor**: Here, we will freeze the weights\n   for all of the network except that of the final fully connected\n   layer. This last fully connected layer is replaced with a new one\n   with random weights and only this layer is trained.\n\n\n"
      ],
      "cell_type": "markdown"
    },
    {
      "metadata": {
        "collapsed": false
      },
      "execution_count": null,
      "cell_type": "code",
      "source": [
        "# License: BSD\n# Author: Sasank Chilamkurthy\n\nimport torch\nimport torch.nn as nn\nimport torch.optim as optim\nfrom torch.autograd import Variable\nimport numpy as np\nimport torchvision\nfrom torchvision import datasets, models, transforms\nimport matplotlib.pyplot as plt\nimport time\nimport copy\nimport os"
      ],
      "outputs": []
    },
    {
      "metadata": {},
      "source": [
        "Load Data\n---------\n\nWe will use torchvision and torch.utils.data packages for loading the\ndata.\n\nThe problem we're going to solve today is to train a model to classify\n**ants** and **bees**. We have about 120 training images each for ants and bees.\nThere are 75 validation images for each class. Usually, this is a very\nsmall dataset to generalize upon, if trained from scratch. Since we\nare using transfer learning, we should be able to generalize reasonably\nwell.\n\nThis dataset is a very small subset of imagenet.\n\n.. Note ::\n   Download the data from\n   `here <../_downloads/hymenoptera_data.zip>`_\n   and extract it to the current directory.\n\n"
      ],
      "cell_type": "markdown"
    },
    {
      "metadata": {
        "collapsed": false
      },
      "execution_count": null,
      "cell_type": "code",
      "source": [
        "# Data augmentation and normalization for training \n# Just normalization for validation\ndata_transforms = {\n    'train': transforms.Compose([\n        transforms.RandomSizedCrop(224),\n        transforms.RandomHorizontalFlip(),\n        transforms.ToTensor(),\n        transforms.Normalize([0.485, 0.456, 0.406], [0.229, 0.224, 0.225])\n    ]),\n    'val': transforms.Compose([\n        transforms.Scale(256),\n        transforms.CenterCrop(224),\n        transforms.ToTensor(),\n        transforms.Normalize([0.485, 0.456, 0.406], [0.229, 0.224, 0.225])\n    ]),\n}\n\ndata_dir = 'hymenoptera_data'\ndsets = {x: datasets.ImageFolder(os.path.join(data_dir, x), data_transforms[x])\n         for x in ['train', 'val']}\ndset_loaders = {x: torch.utils.data.DataLoader(dsets[x], batch_size=4,\n                                               shuffle=True, num_workers=4)\n                for x in ['train', 'val']}\ndset_sizes = {x: len(dsets[x]) for x in ['train', 'val']}\ndset_classes = dsets['train'].classes\n\nuse_gpu = torch.cuda.is_available()"
      ],
      "outputs": []
    },
    {
      "metadata": {},
      "source": [
        "Visualize a few images\n^^^^^^^^^^^^^^^^^^^^^^\nLet's visualize a few training images so as to understand the data\naugmentations.\n\n"
      ],
      "cell_type": "markdown"
    },
    {
      "metadata": {
        "collapsed": false
      },
      "execution_count": null,
      "cell_type": "code",
      "source": [
        "def imshow(inp):\n    \"\"\"Imshow for Tensor.\"\"\"\n    inp = inp.numpy().transpose((1, 2, 0))\n    mean = np.array([0.485, 0.456, 0.406])\n    std = np.array([0.229, 0.224, 0.225])\n    inp = std * inp + mean\n    plt.imshow(inp)\n\n\n# Get a batch of training data\ninputs, classes = next(iter(dset_loaders['train']))\n\n# Make a grid from batch\nout = torchvision.utils.make_grid(inputs)\n\nimshow(out)\nplt.title([dset_classes[x] for x in classes])\nplt.show()"
      ],
      "outputs": []
    },
    {
      "metadata": {},
      "source": [
        "Training the model\n------------------\n\nNow, let's write a general function to train a model. Here, we will\nillustrate:\n\n-  Scheduling the learning rate\n-  Saving (deep copying) the best model\n\nIn the following, ``optim_scheduler`` is a function which returns an ``optim.SGD``\nobject when called as ``optim_scheduler(model, epoch)``. This is useful\nwhen we want to change the learning rate or restrict the parameters we\nwant to optimize.\n\n\n"
      ],
      "cell_type": "markdown"
    },
    {
      "metadata": {
        "collapsed": false
      },
      "execution_count": null,
      "cell_type": "code",
      "source": [
        "def train_model(model, criterion, optim_scheduler, num_epochs=25):\n    since = time.time()\n\n    best_model = model\n    best_acc = 0.0\n\n    for epoch in range(num_epochs):\n        print('Epoch {}/{}'.format(epoch, num_epochs - 1))\n        print('-' * 10)\n\n        # Each epoch has a training and validation phase\n        for phase in ['train', 'val']:\n            if phase == 'train':\n                optimizer = optim_scheduler(model, epoch)\n\n            running_loss = 0.0\n            running_corrects = 0\n\n            # Iterate over data.\n            for data in dset_loaders[phase]:\n                # get the inputs\n                inputs, labels = data\n\n                # wrap them in Variable\n                if use_gpu:\n                    inputs, labels = Variable(inputs.cuda()), \\\n                        Variable(labels.cuda())\n                else:\n                    inputs, labels = Variable(inputs), Variable(labels)\n\n                # zero the parameter gradients\n                optimizer.zero_grad()\n\n                # forward\n                outputs = model(inputs)\n                _, preds = torch.max(outputs.data, 1)\n                loss = criterion(outputs, labels)\n\n                # backward + optimize only if in training phase\n                if phase == 'train':\n                    loss.backward()\n                    optimizer.step()\n\n                # statistics\n                running_loss += loss.data[0]\n                running_corrects += torch.sum(preds == labels.data)\n\n            epoch_loss = running_loss / dset_sizes[phase]\n            epoch_acc = running_corrects / dset_sizes[phase]\n\n            print('{} Loss: {:.4f} Acc: {:.4f}'.format(\n                phase, epoch_loss, epoch_acc))\n\n            # deep copy the model\n            if phase == 'val' and epoch_acc > best_acc:\n                best_acc = epoch_acc\n                best_model = copy.deepcopy(model)\n\n        print()\n\n    time_elapsed = time.time() - since\n    print('Training complete in {:.0f}m {:.0f}s'.format(\n        time_elapsed // 60, time_elapsed % 60))\n    print('Best val Acc: {:4f}'.format(best_acc))\n    return best_model"
      ],
      "outputs": []
    },
    {
      "metadata": {},
      "source": [
        "Visualizing the model predictions\n^^^^^^^^^^^^^^^^^^^^^^^^^^^^^^^^^\n\nGeneric function to display predictions for a few images\n\n\n"
      ],
      "cell_type": "markdown"
    },
    {
      "metadata": {
        "collapsed": false
      },
      "execution_count": null,
      "cell_type": "code",
      "source": [
        "def visualize_model(model, num_images=5):\n    for i, data in enumerate(dset_loaders['val']):\n        inputs, labels = data\n        if use_gpu:\n            inputs, labels = Variable(inputs.cuda()), Variable(labels.cuda())\n        else:\n            inputs, labels = Variable(inputs), Variable(labels)\n\n        \n        outputs = model(inputs)\n        _, preds = torch.max(outputs.data, 1)\n        \n        plt.figure()\n        imshow(inputs.cpu().data[0])\n        plt.title('pred: {}'.format(dset_classes[labels.data[0]]))\n        plt.show()\n\n        if i == num_images - 1:\n            break"
      ],
      "outputs": []
    },
    {
      "metadata": {},
      "source": [
        "Finetuning the convnet\n----------------------\n\nFirst, let's create our learning rate scheduler. We will exponentially\ndecrease the learning rate once every few epochs.\n\n\n"
      ],
      "cell_type": "markdown"
    },
    {
      "metadata": {
        "collapsed": false
      },
      "execution_count": null,
      "cell_type": "code",
      "source": [
        "def optim_scheduler_ft(model, epoch, init_lr=0.001, lr_decay_epoch=7):\n    lr = init_lr * (0.1**(epoch // lr_decay_epoch))\n\n    if epoch % lr_decay_epoch == 0:\n        print('LR is set to {}'.format(lr))\n\n    optimizer = optim.SGD(model.parameters(), lr=lr, momentum=0.9)\n    return optimizer"
      ],
      "outputs": []
    },
    {
      "metadata": {},
      "source": [
        "Load a pretrained model and reset final fully connected layer.\n\n\n"
      ],
      "cell_type": "markdown"
    },
    {
      "metadata": {
        "collapsed": false
      },
      "execution_count": null,
      "cell_type": "code",
      "source": [
        "model = models.resnet18(pretrained=True)\nnum_ftrs = model.fc.in_features\nmodel.fc = nn.Linear(num_ftrs, 2)\n\nif use_gpu:\n    model = model.cuda()\n\ncriterion = nn.CrossEntropyLoss()"
      ],
      "outputs": []
    },
    {
      "metadata": {},
      "source": [
        "Train and evaluate\n^^^^^^^^^^^^^^^^^^\n\nIt should take around 15-25 min on CPU. On GPU though, it takes less than a\nminute.\n\n\n"
      ],
      "cell_type": "markdown"
    },
    {
      "metadata": {
        "collapsed": false
      },
      "execution_count": null,
      "cell_type": "code",
      "source": [
        "model = train_model(model, criterion, optim_scheduler_ft, num_epochs=25)"
      ],
      "outputs": []
    },
    {
      "metadata": {
        "collapsed": false
      },
      "execution_count": null,
      "cell_type": "code",
      "source": [
        "visualize_model(model)"
      ],
      "outputs": []
    },
    {
      "metadata": {},
      "source": [
        "ConvNet as fixed feature extractor\n----------------------------------\n\nHere, we need to freeze all the network except the final layer. We need\nto set ``requires_grad == False`` to freeze the parameters so that the\ngradients are not computed in ``backward()``.\n\nYou can read more about this in the documentation\n`here <http://pytorch.org/docs/notes/autograd.html#excluding-subgraphs-from-backward>`__.\n\n\n"
      ],
      "cell_type": "markdown"
    },
    {
      "metadata": {
        "collapsed": false
      },
      "execution_count": null,
      "cell_type": "code",
      "source": [
        "model = torchvision.models.resnet18(pretrained=True)\nfor param in model.parameters():\n    param.requires_grad = False\n\n# Parameters of newly constructed modules have requires_grad=True by default\nmodel.fc = nn.Linear(512, 100)\n\nif use_gpu:\n    model = model.cuda()\n\ncriterion = nn.CrossEntropyLoss()"
      ],
      "outputs": []
    },
    {
      "metadata": {},
      "source": [
        "Let's write ``optim_scheduler``. We will use previous lr scheduler. Also\nwe need to optimize only the parameters of final FC layer.\n\n\n"
      ],
      "cell_type": "markdown"
    },
    {
      "metadata": {
        "collapsed": false
      },
      "execution_count": null,
      "cell_type": "code",
      "source": [
        "def optim_scheduler_conv(model, epoch, init_lr=0.001, lr_decay_epoch=7):\n    lr = init_lr * (0.1**(epoch // lr_decay_epoch))\n\n    if epoch % lr_decay_epoch == 0:\n        print('LR is set to {}'.format(lr))\n\n    optimizer = optim.SGD(model.fc.parameters(), lr=lr, momentum=0.9)\n    return optimizer"
      ],
      "outputs": []
    },
    {
      "metadata": {},
      "source": [
        "Train and evaluate\n^^^^^^^^^^^^^^^^^^\n\nOn CPU this will take about half the time compared to previous scenario.\nThis is expected as gradients don't need to be computed for most of the\nnetwork. However, forward does need to be computed.\n\n\n"
      ],
      "cell_type": "markdown"
    },
    {
      "metadata": {
        "collapsed": false
      },
      "execution_count": null,
      "cell_type": "code",
      "source": [
        "model = train_model(model, criterion, optim_scheduler_conv)"
      ],
      "outputs": []
    },
    {
      "metadata": {
        "collapsed": false
      },
      "execution_count": null,
      "cell_type": "code",
      "source": [
        "visualize_model(model)"
      ],
      "outputs": []
    }
  ]
}